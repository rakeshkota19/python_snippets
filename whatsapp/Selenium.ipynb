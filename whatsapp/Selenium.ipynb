{
 "cells": [
  {
   "cell_type": "code",
   "execution_count": 5,
   "metadata": {},
   "outputs": [],
   "source": [
    "from selenium import webdriver\n",
    "from selenium.webdriver.common.keys import Keys # Keys provide keys present in keyboard like functionkeys\n",
    "import pandas as pd\n",
    "import time\n"
   ]
  },
  {
   "cell_type": "code",
   "execution_count": 4,
   "metadata": {},
   "outputs": [],
   "source": [
    "\n",
    "driver = webdriver.Chrome()\n",
    "\n",
    "driver.get(\"https://web.whatsapp.com\")"
   ]
  },
  {
   "cell_type": "code",
   "execution_count": 11,
   "metadata": {},
   "outputs": [
    {
     "name": "stdout",
     "output_type": "stream",
     "text": [
      "{'7IWxNDUaKdxG1dHQFE5Prg==': '\"Rakesh\"', 'BnVLaoWYKpzFgY0KdzauZA==': '[{\"id\":\"ESi9yyZ2ZFF4o/jItQIu+w==\",\"tag\":\"1532683769\",\"raw\":null,\"eurl\":\"https://pps.whatsapp.net/v/t61.24694-24/57987915_577141792793625_3971757108461830144_n.jpg?oe=5D9B0A12&oh=f778b0c77596851482d817a8b49eaf44\"},{\"id\":\"/EUbWBWP04zJoxYZfQYoSg==\",\"tag\":\"1569415506\",\"raw\":null,\"eurl\":\"https://pps.whatsapp.net/v/t61.24694-24/69113377_385216539036238_4308224090516226048_n.jpg?oe=5D9B0A12&oh=ad0cb8fb7898c5b3d3b8b5ee994083f3\"},{\"id\":\"WrttD3KISNpwZMjTMk1m5Q==\",\"tag\":\"1554828088\",\"raw\":null,\"eurl\":\"https://pps.whatsapp.net/v/t61.24694-24/55963558_2305722619514894_3795790245350342656_n.jpg?oe=5D9B0A12&oh=7931af29c5445f322c0dcd4fa252eb76\"},{\"id\":\"C+u29OL4ZkX/tlo5ZOyveQ==\",\"tag\":\"1569735348\",\"raw\":null,\"eurl\":\"https://pps.whatsapp.net/v/t61.24694-24/69665742_762911557480214_1750475528495693824_n.jpg?oe=5D9B0A12&oh=1f40e9556e159b01ac86d26345ea642b\"},{\"id\":\"zHOz9bBW0pxgMed1Wv6mCA==\",\"tag\":\"1570034404\",\"raw\":null,\"eurl\":\"https://pps.whatsapp.net/v/t61.24694-24/71310239_413322862639749_6178426926219132928_n.jpg?oe=5D9B0A12&oh=c946599b779ea969509a35934999d022\"},{\"id\":\"fg5OLDoCamqSy/oicGzfqg==\",\"tag\":\"1565102314\",\"raw\":null,\"eurl\":\"https://pps.whatsapp.net/v/t61.24694-24/65810134_714445439004968_5504021643753684992_n.jpg?oe=5D9B0A12&oh=e4d7f15402e9d50cc1ec4d3eaa6b0ed3\"},{\"id\":\"tnfyqtgydt6Gy4YWhFKIUw==\",\"tag\":\"1559110128\",\"raw\":null,\"eurl\":\"https://pps.whatsapp.net/v/t61.24694-24/59624564_437693770386053_8078154359252189184_n.jpg?oe=5D9B0A12&oh=dddf4013f8121a3840339ce7cb1af0db\"},{\"id\":\"gpTdvsIWZCLphIlAZJneTQ==\",\"tag\":\"1566787392\",\"raw\":null,\"eurl\":\"https://pps.whatsapp.net/v/t61.24694-24/64218629_2410300832545539_6243915887468871680_n.jpg?oe=5D9B0A12&oh=d02a95e44f0b7f2c817b8e753e3b5f32\"},{\"id\":\"n4ikh1zThyNgrASvjM2AjA==\",\"tag\":\"1536596789\",\"raw\":null,\"eurl\":\"https://pps.whatsapp.net/v/t61.24694-24/57685341_2142363249408156_2564160982553198592_n.jpg?oe=5D9B0A12&oh=e62cc807cccf6b1d04bfb84d61e500d1\"},{\"id\":\"9ajjd7SfCCPYOwHy2O5MUA==\",\"tag\":\"1565113349\",\"raw\":null,\"eurl\":\"https://pps.whatsapp.net/v/t61.24694-24/62509761_2409051812664676_1600266108244328448_n.jpg?oe=5D9B0A12&oh=049885bc9f0d8bd062f06d50d63c4f96\"},{\"id\":\"J+nersaY6DPf4dRv0xyl1Q==\",\"tag\":\"1558561056\",\"raw\":null,\"eurl\":\"https://pps.whatsapp.net/v/t61.24694-24/59434316_2313607462184749_5512191182651785216_n.jpg?oe=5D9B0A12&oh=d7dca585a17bce27ac1f5a1019dd0c61\"},{\"id\":\"FYvKOoXTfT46rJywDBXt8g==\",\"tag\":\"1570024648\",\"raw\":null,\"eurl\":\"https://pps.whatsapp.net/v/t61.24694-24/71320422_245891366314954_279351570649317376_n.jpg?oe=5D9B0A12&oh=d32d098dc5979c9f8f400101fd40be40\"}]', 'Cv8WHzOX5LvHOkxN5qQy1Q==': 'false', 'ECGXpEViIaJi5Ng6dIqodA==': '\"472_XnxpHzEQfq1brU1\\\\n    \"', 'T4YaHEUYQ+j73C9d9p7rMw==': 'false', 'WABrowserId': '\"goq6FHHpORTslgOX/+wDgA==\"', 'WALangPref': '\"en\"', 'WASecretBundle': '{\"key\":\"qOJqyVFx2JE5SfAamPCaFWCOGgy/DWl7aHwkl2GgegY=\",\"encKey\":\"BLtK0UGqxEUzmFRAf+0OKQWlBsgEUd3F3G4Dzs9H3/E=\",\"macKey\":\"qOJqyVFx2JE5SfAamPCaFWCOGgy/DWl7aHwkl2GgegY=\"}', 'WAToken1': '\"OlSuhENTYT2TXMVwtD3qQIVhHVJ0y2NDEIHC+P9UgmU=\"', 'WAToken2': '\"1@D4jvU6ChUnALCAFeKKzeqRo403gmZuQWWUlE7oX9vslXp+Sz0XctXgMqfEdu1OfdnGQ1XOlx1/P05Q==\"', 'XOmGqHb5C8QwOisJcnPgew==': '[{\"id\":\"😒\",\"weight\":3.8526108},{\"id\":\"😔\",\"weight\":1.8263093},{\"id\":\"🙀\",\"weight\":1.6199999},{\"id\":\"✈\",\"weight\":1.1809798},{\"id\":\"🙂\",\"weight\":0.95659363},{\"id\":\"😂\",\"weight\":0.9075979},{\"id\":\"🙋\\u200d♂\",\"weight\":0.4599255},{\"id\":\"\\U0001f92d\",\"weight\":0.40524182},{\"id\":\"👏\",\"weight\":0.14933303},{\"id\":\"🥃\",\"weight\":0.10958239},{\"id\":\"😍\",\"weight\":0.056509275},{\"id\":\"\\U0001f92b\",\"weight\":0.031680413},{\"id\":\"\\U0001f970\",\"weight\":0.0030432628},{\"id\":\"😏\",\"weight\":0.001815543},{\"id\":\"💆🏻\\u200d♂\",\"weight\":0.00018391355},{\"id\":\"\\U0001f92c\",\"weight\":0.00015926757},{\"id\":\"🍖\",\"weight\":5.3881877e-7},{\"id\":\"🍫\",\"weight\":6.461418e-9},{\"id\":\"🤑\",\"weight\":1.4059531e-9},{\"id\":\"👊🏻\",\"weight\":2.0307332e-10},{\"id\":\"🙈\",\"weight\":1.478095e-10},{\"id\":\"☕\",\"weight\":6.754126e-11},{\"id\":\"📍\",\"weight\":9.3851645e-12},{\"id\":\"🌹\",\"weight\":8.446648e-12},{\"id\":\"💔\",\"weight\":4.4888945e-12},{\"id\":\"🎾\",\"weight\":4.040005e-12},{\"id\":\"🙄\",\"weight\":3.2588368e-12},{\"id\":\"🙆\\u200d♂\",\"weight\":1.2677961e-12},{\"id\":\"😆\",\"weight\":2.4303635e-15},{\"id\":\"😘\",\"weight\":1.2291689e-15},{\"id\":\"😿\",\"weight\":6.434418e-16},{\"id\":\"😞\",\"weight\":4.0383926e-16},{\"id\":\"😌\",\"weight\":3.2047155e-16},{\"id\":\"😅\",\"weight\":1.4649199e-20},{\"id\":\"🤣\",\"weight\":3.2415865e-22},{\"id\":\"💋\",\"weight\":9.6377685e-24}]', 'debugCursor': '331', 'jHENH2LdozI1Yni/4Q5rfg==': 'false', 'k6nr+xsZy1yKydLXE9YmmA==': '[{\"id\":\"global_mute\",\"expiration\":0}]', 'last-wid': '\"919490518647@c.us\"', 'logout-token': '\"1@M+bZR+j5HfaCm6lWM+bqtbuOBMLRuPggeKzzs3nW/FintRCEfNnut2weSkncS/eo2guUtnU5AyckDNmWXHv7AqNxh9aSThiUzr+8SDe+iFfgXkGf0moX7iEuiMDeEQ1rFbMQJw5E02a1iVASLujONg==\"', 'mobile-platform': '\"android\"', 'remember-me': 'true', 'restore-from-cache': 'false', 'storage_test': 'storage_test', 'whatsapp-mutex': '\"x932339539:init_1570182543291\"'}\n",
      "<class '__main__.LocalStorage'>\n"
     ]
    },
    {
     "ename": "ValueError",
     "evalue": "too many values to unpack (expected 2)",
     "output_type": "error",
     "traceback": [
      "\u001b[0;31m---------------------------------------------------------------------------\u001b[0m",
      "\u001b[0;31mValueError\u001b[0m                                Traceback (most recent call last)",
      "\u001b[0;32m<ipython-input-11-19550f80a23c>\u001b[0m in \u001b[0;36m<module>\u001b[0;34m\u001b[0m\n\u001b[1;32m     12\u001b[0m \u001b[0mprint\u001b[0m\u001b[0;34m(\u001b[0m\u001b[0mstorage\u001b[0m\u001b[0;34m)\u001b[0m\u001b[0;34m\u001b[0m\u001b[0;34m\u001b[0m\u001b[0m\n\u001b[1;32m     13\u001b[0m \u001b[0mprint\u001b[0m\u001b[0;34m(\u001b[0m\u001b[0mtype\u001b[0m\u001b[0;34m(\u001b[0m\u001b[0mstorage\u001b[0m\u001b[0;34m)\u001b[0m\u001b[0;34m)\u001b[0m\u001b[0;34m\u001b[0m\u001b[0;34m\u001b[0m\u001b[0m\n\u001b[0;32m---> 14\u001b[0;31m \u001b[0;32mfor\u001b[0m \u001b[0mkey\u001b[0m\u001b[0;34m,\u001b[0m \u001b[0mvalue\u001b[0m \u001b[0;32min\u001b[0m \u001b[0mstorage\u001b[0m\u001b[0;34m.\u001b[0m\u001b[0mitems\u001b[0m\u001b[0;34m(\u001b[0m\u001b[0;34m)\u001b[0m\u001b[0;34m:\u001b[0m\u001b[0;34m\u001b[0m\u001b[0;34m\u001b[0m\u001b[0m\n\u001b[0m\u001b[1;32m     15\u001b[0m   \u001b[0mprint\u001b[0m\u001b[0;34m(\u001b[0m\u001b[0;34m\"%s: %s\"\u001b[0m \u001b[0;34m%\u001b[0m \u001b[0;34m(\u001b[0m\u001b[0mkey\u001b[0m\u001b[0;34m,\u001b[0m \u001b[0mvalue\u001b[0m\u001b[0;34m)\u001b[0m\u001b[0;34m)\u001b[0m\u001b[0;34m\u001b[0m\u001b[0;34m\u001b[0m\u001b[0m\n\u001b[1;32m     16\u001b[0m \u001b[0;34m\u001b[0m\u001b[0m\n",
      "\u001b[0;31mValueError\u001b[0m: too many values to unpack (expected 2)"
     ]
    }
   ],
   "source": [
    "#youtube\n",
    "#getting local storage\n",
    "\n",
    "from selenium import webdriver\n",
    "driver = webdriver.Chrome() \n",
    "url='https://web.whatsapp.com/'\n",
    "driver.get(url)\n",
    "\n",
    "time.sleep(10)\n",
    "\n",
    "storage = LocalStorage(driver)\n",
    "print(storage)\n",
    "print(type(storage))\n",
    "for key, value in storage.items():\n",
    "  print(\"%s: %s\" % (key, value))\n",
    "\n",
    "\n",
    "\n",
    "driver.close()\n"
   ]
  },
  {
   "cell_type": "code",
   "execution_count": 9,
   "metadata": {},
   "outputs": [],
   "source": [
    "\n",
    "class LocalStorage:\n",
    "    def __init__(self, driver) :\n",
    "        self.driver = driver\n",
    "\n",
    "    def __len__(self):\n",
    "        return self.driver.execute_script(\"return window.localStorage.length;\")\n",
    "\n",
    "    def items(self) :\n",
    "        return self.driver.execute_script( \\\n",
    "            \"var ls = window.localStorage, items = {}; \" \\\n",
    "            \"for (var i = 0, k; i < ls.length; ++i) \" \\\n",
    "            \"  items[k = ls.key(i)] = ls.getItem(k); \" \\\n",
    "            \"return items; \")\n",
    "\n",
    "    def keys(self) :\n",
    "        return self.driver.execute_script( \\\n",
    "            \"var ls = window.localStorage, keys = []; \" \\\n",
    "            \"for (var i = 0; i < ls.length; ++i) \" \\\n",
    "            \"  keys[i] = ls.key(i); \" \\\n",
    "            \"return keys; \")\n",
    "\n",
    "    def get(self, key):\n",
    "        return self.driver.execute_script(\"return window.localStorage.getItem(arguments[0]);\", key)\n",
    "\n",
    "    def set(self, key, value):\n",
    "        self.driver.execute_script(\"window.localStorage.setItem(arguments[0], arguments[1]);\", key, value)\n",
    "\n",
    "    def has(self, key):\n",
    "        return key in self.keys()\n",
    "\n",
    "    def remove(self, key):\n",
    "        self.driver.execute_script(\"window.localStorage.removeItem(arguments[0]);\", key)\n",
    "\n",
    "    def clear(self):\n",
    "        self.driver.execute_script(\"window.localStorage.clear();\")\n",
    "\n",
    "    def __getitem__(self, key) :\n",
    "        value = self.get(key)\n",
    "        if value is None :\n",
    "          raise KeyError(key)\n",
    "        return value\n",
    "\n",
    "    def __setitem__(self, key, value):\n",
    "        self.set(key, value)\n",
    "\n",
    "    def __contains__(self, key):\n",
    "        return key in self.keys()\n",
    "\n",
    "    def __iter__(self):\n",
    "        return self.items().__iter__()\n",
    "\n",
    "    def __repr__(self):\n",
    "        return self.items().__str__()\n"
   ]
  },
  {
   "cell_type": "code",
   "execution_count": null,
   "metadata": {},
   "outputs": [],
   "source": []
  }
 ],
 "metadata": {
  "kernelspec": {
   "display_name": "Python 3",
   "language": "python",
   "name": "python3"
  },
  "language_info": {
   "codemirror_mode": {
    "name": "ipython",
    "version": 3
   },
   "file_extension": ".py",
   "mimetype": "text/x-python",
   "name": "python",
   "nbconvert_exporter": "python",
   "pygments_lexer": "ipython3",
   "version": "3.6.8"
  }
 },
 "nbformat": 4,
 "nbformat_minor": 2
}
